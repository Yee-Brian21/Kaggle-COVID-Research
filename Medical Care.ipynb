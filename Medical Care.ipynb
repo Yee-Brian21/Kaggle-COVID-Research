{
 "cells": [
  {
   "cell_type": "code",
   "execution_count": 1,
   "metadata": {},
   "outputs": [],
   "source": [
    "import pandas as pd\n",
    "import os\n",
    "from tqdm import tqdm\n",
    "import json"
   ]
  },
  {
   "cell_type": "code",
   "execution_count": 2,
   "metadata": {
    "scrolled": true
   },
   "outputs": [
    {
     "name": "stderr",
     "output_type": "stream",
     "text": [
      "100%|████████████████████████████████████████████████████████████████████████████████| 885/885 [00:15<00:00, 56.89it/s]\n",
      "100%|██████████████████████████████████████████████████████████████████████████████| 9118/9118 [02:30<00:00, 60.78it/s]\n",
      "100%|████████████████████████████████████████████████████████████████████████████| 16959/16959 [04:42<00:00, 60.09it/s]\n",
      "100%|██████████████████████████████████████████████████████████████████████████████| 2353/2353 [00:36<00:00, 65.27it/s]\n"
     ]
    }
   ],
   "source": [
    "dirs = ['biorxiv_medrxiv','comm_use_subset','custom_license','noncomm_use_subset']\n",
    "docs = []\n",
    "\n",
    "for d in dirs:\n",
    "    for file in tqdm(os.listdir(f\"{d}/{d}\")):\n",
    "        file_path = f\"{d}/{d}/{file}\"\n",
    "        j = json.load(open(file_path,\"rb\"))\n",
    "#         print(j)\n",
    "        \n",
    "        paper_id = j['paper_id']\n",
    "        title = j['metadata']['title']\n",
    "        try:\n",
    "            abstract = j['abstract'][0]['text']\n",
    "        except:\n",
    "            abstract = ''\n",
    "            \n",
    "        full_text = ''\n",
    "        for text in j['body_text']:\n",
    "            full_text += text['text']+'\\n\\n'\n",
    "        docs.append([paper_id,title,abstract,full_text])\n",
    "df = pd.DataFrame(docs,columns = ['paper_id','title','abstract','full_text'])"
   ]
  },
  {
   "cell_type": "code",
   "execution_count": 3,
   "metadata": {},
   "outputs": [],
   "source": [
    "df.to_pickle('unprocessed_articles.pkl')"
   ]
  },
  {
   "cell_type": "code",
   "execution_count": 31,
   "metadata": {
    "scrolled": true
   },
   "outputs": [
    {
     "data": {
      "text/html": [
       "<div>\n",
       "<style scoped>\n",
       "    .dataframe tbody tr th:only-of-type {\n",
       "        vertical-align: middle;\n",
       "    }\n",
       "\n",
       "    .dataframe tbody tr th {\n",
       "        vertical-align: top;\n",
       "    }\n",
       "\n",
       "    .dataframe thead th {\n",
       "        text-align: right;\n",
       "    }\n",
       "</style>\n",
       "<table border=\"1\" class=\"dataframe\">\n",
       "  <thead>\n",
       "    <tr style=\"text-align: right;\">\n",
       "      <th></th>\n",
       "      <th>paper_id</th>\n",
       "      <th>title</th>\n",
       "      <th>abstract</th>\n",
       "      <th>full_text</th>\n",
       "    </tr>\n",
       "  </thead>\n",
       "  <tbody>\n",
       "    <tr>\n",
       "      <th>0</th>\n",
       "      <td>0015023cc06b5362d332b3baf348d11567ca2fbb</td>\n",
       "      <td>The RNA pseudoknots in foot-and-mouth disease ...</td>\n",
       "      <td>word count: 194 22 Text word count: 5168 23 24...</td>\n",
       "      <td>VP3, and VP0 (which is further processed to VP...</td>\n",
       "    </tr>\n",
       "    <tr>\n",
       "      <th>1</th>\n",
       "      <td>004f0f8bb66cf446678dc13cf2701feec4f36d76</td>\n",
       "      <td>Healthcare-resource-adjusted vulnerabilities t...</td>\n",
       "      <td></td>\n",
       "      <td>The 2019-nCoV epidemic has spread across China...</td>\n",
       "    </tr>\n",
       "    <tr>\n",
       "      <th>2</th>\n",
       "      <td>00d16927588fb04d4be0e6b269fc02f0d3c2aa7b</td>\n",
       "      <td>Real-time, MinION-based, amplicon sequencing f...</td>\n",
       "      <td>Infectious bronchitis (IB) causes significant ...</td>\n",
       "      <td>Infectious bronchitis (IB), which is caused by...</td>\n",
       "    </tr>\n",
       "    <tr>\n",
       "      <th>3</th>\n",
       "      <td>0139ea4ca580af99b602c6435368e7fdbefacb03</td>\n",
       "      <td>A Combined Evidence Approach to Prioritize Nip...</td>\n",
       "      <td>Nipah Virus (NiV) came into limelight recently...</td>\n",
       "      <td>Nipah is an infectious negative-sense single-s...</td>\n",
       "    </tr>\n",
       "    <tr>\n",
       "      <th>4</th>\n",
       "      <td>013d9d1cba8a54d5d3718c229b812d7cf91b6c89</td>\n",
       "      <td>Assessing spread risk of Wuhan novel coronavir...</td>\n",
       "      <td>Background: A novel coronavirus (2019-nCoV) em...</td>\n",
       "      <td>In December 2019, a cluster of patients with p...</td>\n",
       "    </tr>\n",
       "  </tbody>\n",
       "</table>\n",
       "</div>"
      ],
      "text/plain": [
       "                                   paper_id  \\\n",
       "0  0015023cc06b5362d332b3baf348d11567ca2fbb   \n",
       "1  004f0f8bb66cf446678dc13cf2701feec4f36d76   \n",
       "2  00d16927588fb04d4be0e6b269fc02f0d3c2aa7b   \n",
       "3  0139ea4ca580af99b602c6435368e7fdbefacb03   \n",
       "4  013d9d1cba8a54d5d3718c229b812d7cf91b6c89   \n",
       "\n",
       "                                               title  \\\n",
       "0  The RNA pseudoknots in foot-and-mouth disease ...   \n",
       "1  Healthcare-resource-adjusted vulnerabilities t...   \n",
       "2  Real-time, MinION-based, amplicon sequencing f...   \n",
       "3  A Combined Evidence Approach to Prioritize Nip...   \n",
       "4  Assessing spread risk of Wuhan novel coronavir...   \n",
       "\n",
       "                                            abstract  \\\n",
       "0  word count: 194 22 Text word count: 5168 23 24...   \n",
       "1                                                      \n",
       "2  Infectious bronchitis (IB) causes significant ...   \n",
       "3  Nipah Virus (NiV) came into limelight recently...   \n",
       "4  Background: A novel coronavirus (2019-nCoV) em...   \n",
       "\n",
       "                                           full_text  \n",
       "0  VP3, and VP0 (which is further processed to VP...  \n",
       "1  The 2019-nCoV epidemic has spread across China...  \n",
       "2  Infectious bronchitis (IB), which is caused by...  \n",
       "3  Nipah is an infectious negative-sense single-s...  \n",
       "4  In December 2019, a cluster of patients with p...  "
      ]
     },
     "execution_count": 31,
     "metadata": {},
     "output_type": "execute_result"
    }
   ],
   "source": [
    "df.head()"
   ]
  },
  {
   "cell_type": "code",
   "execution_count": 4,
   "metadata": {},
   "outputs": [
    {
     "name": "stdout",
     "output_type": "stream",
     "text": [
      " hospital (1296, 4)\n",
      " personnel (131, 4)\n",
      " nurse (152, 4)\n",
      " doctor (66, 4)\n",
      " aid (185, 4)\n",
      " site (1244, 4)\n",
      " strategies (1165, 4)\n",
      " strategy (689, 4)\n",
      " fund (673, 4)\n",
      " equipment (176, 4)\n"
     ]
    }
   ],
   "source": [
    "key_words = [' hospital',' personnel',' nurse',' doctor',' aid',\n",
    "             ' site',' strategies',' strategy',' fund',' equipment']\n",
    "for word in key_words:\n",
    "    print(word, df[df['abstract'].str.contains(word)].shape)"
   ]
  },
  {
   "cell_type": "code",
   "execution_count": 20,
   "metadata": {
    "scrolled": true
   },
   "outputs": [
    {
     "name": "stdout",
     "output_type": "stream",
     "text": [
      "COVID (626, 4) 20 29187\n",
      "novel corona virus (4, 4) 340 18859\n",
      "SARS (1813, 4) 18 29287\n",
      "MERS (807, 4) 26 29299\n",
      "corona (3271, 4) 4 29310\n",
      "virus (11141, 4) 0 29313\n"
     ]
    }
   ],
   "source": [
    "# Initially thought to only include articles with abstracts\n",
    "covid = ['COVID','novel corona virus','SARS','MERS','corona','virus']\n",
    "relevant_abstracts = []\n",
    "for name in covid:\n",
    "    temp = df[df['abstract'].str.contains(name)]\n",
    "    print(name, temp.shape,temp.index.tolist()[0],temp.index.tolist()[-1])\n",
    "    relevant_abstracts.extend(temp.index.tolist())"
   ]
  },
  {
   "cell_type": "code",
   "execution_count": 21,
   "metadata": {},
   "outputs": [
    {
     "name": "stdout",
     "output_type": "stream",
     "text": [
      "COVID (630, 4) 5 29285\n",
      "novel corona virus (20, 4) 3260 28505\n",
      "SARS (11169, 4) 5 29310\n",
      "MERS (3459, 4) 5 29305\n",
      "corona (16416, 4) 2 29312\n",
      "virus (24887, 4) 0 29313\n"
     ]
    }
   ],
   "source": [
    "# After a quick scan of some articles without abstracts, there were articles that had relevant information dispite not\n",
    "# having an abstract.\n",
    "covid = ['COVID','novel corona virus','SARS','MERS','corona','virus']\n",
    "relevant_articles = []\n",
    "for name in covid:\n",
    "    temp = df[df['full_text'].str.contains(name)]\n",
    "    print(name, temp.shape,temp.index.tolist()[0],temp.index.tolist()[-1])\n",
    "    relevant_articles.extend(temp.index.tolist())"
   ]
  },
  {
   "cell_type": "code",
   "execution_count": 22,
   "metadata": {},
   "outputs": [
    {
     "data": {
      "text/plain": [
       "(17662, 12189, 56581, 26719)"
      ]
     },
     "execution_count": 22,
     "metadata": {},
     "output_type": "execute_result"
    }
   ],
   "source": [
    "len(relevant_abstracts),len(set(relevant_abstracts)),len(relevant_articles),len(set(relevant_articles))"
   ]
  },
  {
   "cell_type": "code",
   "execution_count": 28,
   "metadata": {},
   "outputs": [
    {
     "data": {
      "text/plain": [
       "26806"
      ]
     },
     "execution_count": 28,
     "metadata": {},
     "output_type": "execute_result"
    }
   ],
   "source": [
    "# Making sure that every article was accounted for\n",
    "a = relevant_articles+relevant_abstracts\n",
    "len(set(a))"
   ]
  },
  {
   "cell_type": "code",
   "execution_count": 33,
   "metadata": {},
   "outputs": [],
   "source": [
    "cleaned_articles = df.iloc[list(set(a))]"
   ]
  },
  {
   "cell_type": "code",
   "execution_count": 35,
   "metadata": {},
   "outputs": [],
   "source": [
    "cleaned_articles.to_pickle('cleaned_articles.pkl')"
   ]
  },
  {
   "cell_type": "code",
   "execution_count": null,
   "metadata": {},
   "outputs": [],
   "source": []
  }
 ],
 "metadata": {
  "kernelspec": {
   "display_name": "Python 3",
   "language": "python",
   "name": "python3"
  },
  "language_info": {
   "codemirror_mode": {
    "name": "ipython",
    "version": 3
   },
   "file_extension": ".py",
   "mimetype": "text/x-python",
   "name": "python",
   "nbconvert_exporter": "python",
   "pygments_lexer": "ipython3",
   "version": "3.7.6"
  }
 },
 "nbformat": 4,
 "nbformat_minor": 4
}

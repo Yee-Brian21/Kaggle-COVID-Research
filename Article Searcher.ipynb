{
 "cells": [
  {
   "cell_type": "code",
   "execution_count": 3,
   "metadata": {},
   "outputs": [],
   "source": [
    "import pandas as pd"
   ]
  },
  {
   "cell_type": "code",
   "execution_count": 6,
   "metadata": {},
   "outputs": [],
   "source": [
    "articles = pd.read_pickle('cleaned_articles.pkl')"
   ]
  },
  {
   "cell_type": "code",
   "execution_count": 7,
   "metadata": {},
   "outputs": [
    {
     "data": {
      "text/html": [
       "<div>\n",
       "<style scoped>\n",
       "    .dataframe tbody tr th:only-of-type {\n",
       "        vertical-align: middle;\n",
       "    }\n",
       "\n",
       "    .dataframe tbody tr th {\n",
       "        vertical-align: top;\n",
       "    }\n",
       "\n",
       "    .dataframe thead th {\n",
       "        text-align: right;\n",
       "    }\n",
       "</style>\n",
       "<table border=\"1\" class=\"dataframe\">\n",
       "  <thead>\n",
       "    <tr style=\"text-align: right;\">\n",
       "      <th></th>\n",
       "      <th>paper_id</th>\n",
       "      <th>title</th>\n",
       "      <th>abstract</th>\n",
       "      <th>full_text</th>\n",
       "    </tr>\n",
       "  </thead>\n",
       "  <tbody>\n",
       "    <tr>\n",
       "      <th>0</th>\n",
       "      <td>0015023cc06b5362d332b3baf348d11567ca2fbb</td>\n",
       "      <td>The RNA pseudoknots in foot-and-mouth disease ...</td>\n",
       "      <td>word count: 194 22 Text word count: 5168 23 24...</td>\n",
       "      <td>VP3, and VP0 (which is further processed to VP...</td>\n",
       "    </tr>\n",
       "    <tr>\n",
       "      <th>2</th>\n",
       "      <td>00d16927588fb04d4be0e6b269fc02f0d3c2aa7b</td>\n",
       "      <td>Real-time, MinION-based, amplicon sequencing f...</td>\n",
       "      <td>Infectious bronchitis (IB) causes significant ...</td>\n",
       "      <td>Infectious bronchitis (IB), which is caused by...</td>\n",
       "    </tr>\n",
       "    <tr>\n",
       "      <th>3</th>\n",
       "      <td>0139ea4ca580af99b602c6435368e7fdbefacb03</td>\n",
       "      <td>A Combined Evidence Approach to Prioritize Nip...</td>\n",
       "      <td>Nipah Virus (NiV) came into limelight recently...</td>\n",
       "      <td>Nipah is an infectious negative-sense single-s...</td>\n",
       "    </tr>\n",
       "    <tr>\n",
       "      <th>4</th>\n",
       "      <td>013d9d1cba8a54d5d3718c229b812d7cf91b6c89</td>\n",
       "      <td>Assessing spread risk of Wuhan novel coronavir...</td>\n",
       "      <td>Background: A novel coronavirus (2019-nCoV) em...</td>\n",
       "      <td>In December 2019, a cluster of patients with p...</td>\n",
       "    </tr>\n",
       "    <tr>\n",
       "      <th>5</th>\n",
       "      <td>01d162d7fae6aaba8e6e60e563ef4c2fca7b0e18</td>\n",
       "      <td>TWIRLS, an automated topic-wise inference meth...</td>\n",
       "      <td>Faced with the current large-scale public heal...</td>\n",
       "      <td>The sudden outbreak of the new coronavirus (SA...</td>\n",
       "    </tr>\n",
       "  </tbody>\n",
       "</table>\n",
       "</div>"
      ],
      "text/plain": [
       "                                   paper_id  \\\n",
       "0  0015023cc06b5362d332b3baf348d11567ca2fbb   \n",
       "2  00d16927588fb04d4be0e6b269fc02f0d3c2aa7b   \n",
       "3  0139ea4ca580af99b602c6435368e7fdbefacb03   \n",
       "4  013d9d1cba8a54d5d3718c229b812d7cf91b6c89   \n",
       "5  01d162d7fae6aaba8e6e60e563ef4c2fca7b0e18   \n",
       "\n",
       "                                               title  \\\n",
       "0  The RNA pseudoknots in foot-and-mouth disease ...   \n",
       "2  Real-time, MinION-based, amplicon sequencing f...   \n",
       "3  A Combined Evidence Approach to Prioritize Nip...   \n",
       "4  Assessing spread risk of Wuhan novel coronavir...   \n",
       "5  TWIRLS, an automated topic-wise inference meth...   \n",
       "\n",
       "                                            abstract  \\\n",
       "0  word count: 194 22 Text word count: 5168 23 24...   \n",
       "2  Infectious bronchitis (IB) causes significant ...   \n",
       "3  Nipah Virus (NiV) came into limelight recently...   \n",
       "4  Background: A novel coronavirus (2019-nCoV) em...   \n",
       "5  Faced with the current large-scale public heal...   \n",
       "\n",
       "                                           full_text  \n",
       "0  VP3, and VP0 (which is further processed to VP...  \n",
       "2  Infectious bronchitis (IB), which is caused by...  \n",
       "3  Nipah is an infectious negative-sense single-s...  \n",
       "4  In December 2019, a cluster of patients with p...  \n",
       "5  The sudden outbreak of the new coronavirus (SA...  "
      ]
     },
     "execution_count": 7,
     "metadata": {},
     "output_type": "execute_result"
    }
   ],
   "source": [
    "articles.head()"
   ]
  },
  {
   "cell_type": "code",
   "execution_count": 4,
   "metadata": {},
   "outputs": [],
   "source": [
    "ecmo = articles[(articles['full_text'].str.lower().str.contains('extracorporeal membrane oxygenation'))\n",
    "               |(articles['full_text'].str.contains('ECMO'))]"
   ]
  },
  {
   "cell_type": "code",
   "execution_count": 7,
   "metadata": {},
   "outputs": [
    {
     "name": "stdout",
     "output_type": "stream",
     "text": [
      "The copyright holder for this preprint (which was not peer-reviewed) is the . https://doi.org/10.1101/2020.03.05.20031591 doi: medRxiv preprint as antiviral or antibiotic therapy, respiratory support, continuous renal replacement therapy, and extracorporeal membrane oxygenation [ECMO]) were collected from the patients' medical records. Laboratory test results including those of blood routine tests, C-reactive protein (CRP) and D-dimer tests, and blood gas analysis were recorded and compared. The levels of cardiac injury markers including lactate dehydrogenase (LDH), hydroxybutyrate dehydrogenase, creatine kinase (CK), CK-MB, myoglobin (MYO), amino N-terminal pro-brain natriuretic peptide, and TNT-HSST were determined at admission. The AMI group was defined as patients with TNT-HSST serum levels > 99th percentile upper reference limit (>28 pg/ml). 6 The group with cardiac marker abnormalities but non-definite AMI was defined as patients with TNT-HSST serum levels < 28pg/ml but increase in the levels of any of the other abovementioned cardiac markers. The group without cardiac marker abnormalities comprised patients without elevation in the levels of any of the cardiac markers. Chest computed tomography (CT) was performed on the day of admission. The period of illness onset to admission was defined from the day when signs or symptoms were first noticed to the day of admission. All enrolled patients underwent two-dimensional echocardiography (2D echo) and electrocardiography (ECG) during hospitalization.\n",
      "----\n",
      "The copyright holder for this preprint (which was not peer-reviewed) is the . https://doi.org/10.1101/2020.03.05.20031591 doi: medRxiv preprint Table 3 shows the main management strategies, comorbid conditions, and clinical outcomes of all the COVID-19 patients. In the AMI group, in addition to antiviral and antibiotic therapies, cardioprotective medications such as amiodarone and cedilla were used by four patients to improve the cardiac function. However, the non-definite AMI patients with and without cardiac markers abnormalities did not use cardioprotective medication. All the 53 patients were administered nasal cannula oxygen therapy during admission for respiratory support; non-invasive ventilation or high-flow nasal cannula oxygen therapy was performed for five AMI and three non-definite AMI patients with cardiac marker abnormalities. Notably, in the AMI group, invasive mechanical ventilation was used in three patients and ECMO in one patient due to extremely severe ARDS.\n",
      "----\n",
      "The copyright holder for this preprint (which was not peer-reviewed) is the ECMO, extracorporeal membrane oxygenation; ARDS, Acute respiratory distress syndrome; AKI, acute kidney injury; ICU, intensive care unit; other abbreviations the same as those in the footnote of Table 1 .\n",
      "----\n"
     ]
    }
   ],
   "source": [
    "for text in ecmo['full_text'].values:\n",
    "    chunks = text.split('\\n')\n",
    "    for chunk in chunks:\n",
    "        if ('ECMO' in chunk) or ('extracorporeal membrane oxygenation' in chunk):\n",
    "            print(chunk)\n",
    "            print('----')\n",
    "    break"
   ]
  },
  {
   "cell_type": "code",
   "execution_count": 14,
   "metadata": {},
   "outputs": [],
   "source": [
    "# Returns a dataframe with the articleID, title, abstract, and highlighted text of articles that match search terms\n",
    "# Store chunks of text per article in a Set to remove possible duplicates\n",
    "def search_text(keyWords=[]):\n",
    "    if keyWords==[]:\n",
    "        return 'Enter a list of strings to search for. (Case sensitive)'\n",
    "    articles = pd.read_pickle('cleaned_articles.pkl')\n",
    "    for word in keyWords:\n",
    "        articles[word.replace(' ','_')+'_search'] = \"\"\n",
    "        subset = articles[articles['full_text'].str.contains(word)]\n",
    "        for idx, text in subset['full_text'].iteritems():\n",
    "            highlights = \"\"\n",
    "            chunks = text.split('\\n')\n",
    "            for chunk in chunks:\n",
    "                if word in chunk:\n",
    "                    highlights+=chunk\n",
    "                    highlights+=\"\\n\\n\"\n",
    "            articles.at[idx,word.replace(' ','_')+'_search']=highlights\n",
    "    return articles"
   ]
  },
  {
   "cell_type": "code",
   "execution_count": 15,
   "metadata": {},
   "outputs": [],
   "source": [
    "search = ['ECMO','testing']\n",
    "temp = search_text(search)"
   ]
  },
  {
   "cell_type": "code",
   "execution_count": 16,
   "metadata": {},
   "outputs": [
    {
     "data": {
      "text/html": [
       "<div>\n",
       "<style scoped>\n",
       "    .dataframe tbody tr th:only-of-type {\n",
       "        vertical-align: middle;\n",
       "    }\n",
       "\n",
       "    .dataframe tbody tr th {\n",
       "        vertical-align: top;\n",
       "    }\n",
       "\n",
       "    .dataframe thead th {\n",
       "        text-align: right;\n",
       "    }\n",
       "</style>\n",
       "<table border=\"1\" class=\"dataframe\">\n",
       "  <thead>\n",
       "    <tr style=\"text-align: right;\">\n",
       "      <th></th>\n",
       "      <th>paper_id</th>\n",
       "      <th>title</th>\n",
       "      <th>abstract</th>\n",
       "      <th>full_text</th>\n",
       "      <th>ECMO_search</th>\n",
       "      <th>testing_search</th>\n",
       "    </tr>\n",
       "  </thead>\n",
       "  <tbody>\n",
       "    <tr>\n",
       "      <th>0</th>\n",
       "      <td>0015023cc06b5362d332b3baf348d11567ca2fbb</td>\n",
       "      <td>The RNA pseudoknots in foot-and-mouth disease ...</td>\n",
       "      <td>word count: 194 22 Text word count: 5168 23 24...</td>\n",
       "      <td>VP3, and VP0 (which is further processed to VP...</td>\n",
       "      <td></td>\n",
       "      <td></td>\n",
       "    </tr>\n",
       "    <tr>\n",
       "      <th>2</th>\n",
       "      <td>00d16927588fb04d4be0e6b269fc02f0d3c2aa7b</td>\n",
       "      <td>Real-time, MinION-based, amplicon sequencing f...</td>\n",
       "      <td>Infectious bronchitis (IB) causes significant ...</td>\n",
       "      <td>Infectious bronchitis (IB), which is caused by...</td>\n",
       "      <td></td>\n",
       "      <td>Five samples from Run 1 were tested with a pan...</td>\n",
       "    </tr>\n",
       "    <tr>\n",
       "      <th>3</th>\n",
       "      <td>0139ea4ca580af99b602c6435368e7fdbefacb03</td>\n",
       "      <td>A Combined Evidence Approach to Prioritize Nip...</td>\n",
       "      <td>Nipah Virus (NiV) came into limelight recently...</td>\n",
       "      <td>Nipah is an infectious negative-sense single-s...</td>\n",
       "      <td></td>\n",
       "      <td></td>\n",
       "    </tr>\n",
       "    <tr>\n",
       "      <th>4</th>\n",
       "      <td>013d9d1cba8a54d5d3718c229b812d7cf91b6c89</td>\n",
       "      <td>Assessing spread risk of Wuhan novel coronavir...</td>\n",
       "      <td>Background: A novel coronavirus (2019-nCoV) em...</td>\n",
       "      <td>In December 2019, a cluster of patients with p...</td>\n",
       "      <td></td>\n",
       "      <td></td>\n",
       "    </tr>\n",
       "    <tr>\n",
       "      <th>5</th>\n",
       "      <td>01d162d7fae6aaba8e6e60e563ef4c2fca7b0e18</td>\n",
       "      <td>TWIRLS, an automated topic-wise inference meth...</td>\n",
       "      <td>Faced with the current large-scale public heal...</td>\n",
       "      <td>The sudden outbreak of the new coronavirus (SA...</td>\n",
       "      <td></td>\n",
       "      <td></td>\n",
       "    </tr>\n",
       "  </tbody>\n",
       "</table>\n",
       "</div>"
      ],
      "text/plain": [
       "                                   paper_id  \\\n",
       "0  0015023cc06b5362d332b3baf348d11567ca2fbb   \n",
       "2  00d16927588fb04d4be0e6b269fc02f0d3c2aa7b   \n",
       "3  0139ea4ca580af99b602c6435368e7fdbefacb03   \n",
       "4  013d9d1cba8a54d5d3718c229b812d7cf91b6c89   \n",
       "5  01d162d7fae6aaba8e6e60e563ef4c2fca7b0e18   \n",
       "\n",
       "                                               title  \\\n",
       "0  The RNA pseudoknots in foot-and-mouth disease ...   \n",
       "2  Real-time, MinION-based, amplicon sequencing f...   \n",
       "3  A Combined Evidence Approach to Prioritize Nip...   \n",
       "4  Assessing spread risk of Wuhan novel coronavir...   \n",
       "5  TWIRLS, an automated topic-wise inference meth...   \n",
       "\n",
       "                                            abstract  \\\n",
       "0  word count: 194 22 Text word count: 5168 23 24...   \n",
       "2  Infectious bronchitis (IB) causes significant ...   \n",
       "3  Nipah Virus (NiV) came into limelight recently...   \n",
       "4  Background: A novel coronavirus (2019-nCoV) em...   \n",
       "5  Faced with the current large-scale public heal...   \n",
       "\n",
       "                                           full_text ECMO_search  \\\n",
       "0  VP3, and VP0 (which is further processed to VP...               \n",
       "2  Infectious bronchitis (IB), which is caused by...               \n",
       "3  Nipah is an infectious negative-sense single-s...               \n",
       "4  In December 2019, a cluster of patients with p...               \n",
       "5  The sudden outbreak of the new coronavirus (SA...               \n",
       "\n",
       "                                      testing_search  \n",
       "0                                                     \n",
       "2  Five samples from Run 1 were tested with a pan...  \n",
       "3                                                     \n",
       "4                                                     \n",
       "5                                                     "
      ]
     },
     "execution_count": 16,
     "metadata": {},
     "output_type": "execute_result"
    }
   ],
   "source": [
    "temp.head()"
   ]
  },
  {
   "cell_type": "code",
   "execution_count": 18,
   "metadata": {},
   "outputs": [
    {
     "data": {
      "text/plain": [
       "'Five samples from Run 1 were tested with a pan-IBV RT-qPCR assay 4 , and four of those were positive for IBV. Samples with pathogenic IBV strains (Run 2, n = 5) were tested with the pan-IBV RT-qPCR and all five samples were IBV positive (Table 1) . Next, a GA08 serotype specific primer set (in house validated set of primers used for diagnostics) was used on all samples from Run 1 (including five samples that were previously tested by the pan-IBV PCR) and four of 10 samples were positive. Sample #3 and #4, which were positive with the pan-IBV RT-qPCR assay, were negative with GA08 specific RT-qPCR assay indicating that these samples contained IBV serotypes other than GA08 and required further testing. Sample #5 tested negative with both assays (Table 1) .\\n\\nFor example, cost and time efficiency of a sequencing protocol can be improved through multiplexing of more samples in a single sequencing run. 3, 47 In this study, samples (Run 1 = 10, Run 2 = 5) were simultaneously multiplexed (i.e., pooled and then sequenced in one run) while maintaining IBV genotyping from data collected. Since the MinION flow cells were not exhausted, and can be washed and re-used, the AmpSeq method also has the potential for sequential multiplexing. This would decrease the need to hold samples for weeks while waiting for the cost-optimal number of samples for simultaneous multiplexing. Alternatively, if detection of all isolates within a given sample is preferred, the sequencing can be run longer to increase sensitivity. The single protocol nature of AmpSeq, the ability to obtain S1 gene sequence results, real-time data analysis, and flexibility of testing design makes MinION-based AmpSeq a viable sequencing protocol for typing of IBV isolates.\\n\\nThe advent of real-time, in-house, third generation sequencing represents a transformative opportunity for diagnostic laboratories, by offering the ability to more fully characterize PCR reactions beyond confirming amplicon size (e.g., routine electrophoresis), Sanger sequencing RT-PCR products, or by confirming a partial sequence through probe hybridization (e.g., probe-based qPCR). However, the interpretation of such large data sets represents a challenge to veterinary diagnosticians. Read-based classification software such as genotypes from single sample. Thus, the MinION-based AmpSeq coupled with the data analysis workflow for identification, differentiation, and accurate prediction of IBV genotypes from clinical swab samples can be used as an adjunct to other established rapid diagnostic assays 9,12 until extensive testing of this protocol is done to improve and validate AmpSeq for IBV diagnostics. Furthermore, AmpSeq-based assays can be, and are being applied to other viral pathogens, 3,37 demonstrating the power and utility of this method in the age of molecular diagnostics. The copyright holder for this preprint (which was not peer-reviewed) is the author/funder. . https://doi.org/10.1101/634600 doi: bioRxiv preprint \\n\\n'"
      ]
     },
     "execution_count": 18,
     "metadata": {},
     "output_type": "execute_result"
    }
   ],
   "source": [
    "temp['testing_search'].iloc[1]"
   ]
  },
  {
   "cell_type": "code",
   "execution_count": null,
   "metadata": {},
   "outputs": [],
   "source": []
  }
 ],
 "metadata": {
  "kernelspec": {
   "display_name": "Python 3",
   "language": "python",
   "name": "python3"
  },
  "language_info": {
   "codemirror_mode": {
    "name": "ipython",
    "version": 3
   },
   "file_extension": ".py",
   "mimetype": "text/x-python",
   "name": "python",
   "nbconvert_exporter": "python",
   "pygments_lexer": "ipython3",
   "version": "3.7.6"
  }
 },
 "nbformat": 4,
 "nbformat_minor": 4
}

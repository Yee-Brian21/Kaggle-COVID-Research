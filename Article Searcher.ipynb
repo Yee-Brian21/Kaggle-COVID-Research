{
 "cells": [
  {
   "cell_type": "code",
   "execution_count": 2,
   "metadata": {},
   "outputs": [],
   "source": [
    "import pandas as pd"
   ]
  },
  {
   "cell_type": "code",
   "execution_count": 6,
   "metadata": {},
   "outputs": [],
   "source": [
    "articles = pd.read_pickle('cleaned_articles.pkl')"
   ]
  },
  {
   "cell_type": "code",
   "execution_count": 7,
   "metadata": {},
   "outputs": [
    {
     "data": {
      "text/html": [
       "<div>\n",
       "<style scoped>\n",
       "    .dataframe tbody tr th:only-of-type {\n",
       "        vertical-align: middle;\n",
       "    }\n",
       "\n",
       "    .dataframe tbody tr th {\n",
       "        vertical-align: top;\n",
       "    }\n",
       "\n",
       "    .dataframe thead th {\n",
       "        text-align: right;\n",
       "    }\n",
       "</style>\n",
       "<table border=\"1\" class=\"dataframe\">\n",
       "  <thead>\n",
       "    <tr style=\"text-align: right;\">\n",
       "      <th></th>\n",
       "      <th>paper_id</th>\n",
       "      <th>title</th>\n",
       "      <th>abstract</th>\n",
       "      <th>full_text</th>\n",
       "    </tr>\n",
       "  </thead>\n",
       "  <tbody>\n",
       "    <tr>\n",
       "      <th>0</th>\n",
       "      <td>0015023cc06b5362d332b3baf348d11567ca2fbb</td>\n",
       "      <td>The RNA pseudoknots in foot-and-mouth disease ...</td>\n",
       "      <td>word count: 194 22 Text word count: 5168 23 24...</td>\n",
       "      <td>VP3, and VP0 (which is further processed to VP...</td>\n",
       "    </tr>\n",
       "    <tr>\n",
       "      <th>2</th>\n",
       "      <td>00d16927588fb04d4be0e6b269fc02f0d3c2aa7b</td>\n",
       "      <td>Real-time, MinION-based, amplicon sequencing f...</td>\n",
       "      <td>Infectious bronchitis (IB) causes significant ...</td>\n",
       "      <td>Infectious bronchitis (IB), which is caused by...</td>\n",
       "    </tr>\n",
       "    <tr>\n",
       "      <th>3</th>\n",
       "      <td>0139ea4ca580af99b602c6435368e7fdbefacb03</td>\n",
       "      <td>A Combined Evidence Approach to Prioritize Nip...</td>\n",
       "      <td>Nipah Virus (NiV) came into limelight recently...</td>\n",
       "      <td>Nipah is an infectious negative-sense single-s...</td>\n",
       "    </tr>\n",
       "    <tr>\n",
       "      <th>4</th>\n",
       "      <td>013d9d1cba8a54d5d3718c229b812d7cf91b6c89</td>\n",
       "      <td>Assessing spread risk of Wuhan novel coronavir...</td>\n",
       "      <td>Background: A novel coronavirus (2019-nCoV) em...</td>\n",
       "      <td>In December 2019, a cluster of patients with p...</td>\n",
       "    </tr>\n",
       "    <tr>\n",
       "      <th>5</th>\n",
       "      <td>01d162d7fae6aaba8e6e60e563ef4c2fca7b0e18</td>\n",
       "      <td>TWIRLS, an automated topic-wise inference meth...</td>\n",
       "      <td>Faced with the current large-scale public heal...</td>\n",
       "      <td>The sudden outbreak of the new coronavirus (SA...</td>\n",
       "    </tr>\n",
       "  </tbody>\n",
       "</table>\n",
       "</div>"
      ],
      "text/plain": [
       "                                   paper_id  \\\n",
       "0  0015023cc06b5362d332b3baf348d11567ca2fbb   \n",
       "2  00d16927588fb04d4be0e6b269fc02f0d3c2aa7b   \n",
       "3  0139ea4ca580af99b602c6435368e7fdbefacb03   \n",
       "4  013d9d1cba8a54d5d3718c229b812d7cf91b6c89   \n",
       "5  01d162d7fae6aaba8e6e60e563ef4c2fca7b0e18   \n",
       "\n",
       "                                               title  \\\n",
       "0  The RNA pseudoknots in foot-and-mouth disease ...   \n",
       "2  Real-time, MinION-based, amplicon sequencing f...   \n",
       "3  A Combined Evidence Approach to Prioritize Nip...   \n",
       "4  Assessing spread risk of Wuhan novel coronavir...   \n",
       "5  TWIRLS, an automated topic-wise inference meth...   \n",
       "\n",
       "                                            abstract  \\\n",
       "0  word count: 194 22 Text word count: 5168 23 24...   \n",
       "2  Infectious bronchitis (IB) causes significant ...   \n",
       "3  Nipah Virus (NiV) came into limelight recently...   \n",
       "4  Background: A novel coronavirus (2019-nCoV) em...   \n",
       "5  Faced with the current large-scale public heal...   \n",
       "\n",
       "                                           full_text  \n",
       "0  VP3, and VP0 (which is further processed to VP...  \n",
       "2  Infectious bronchitis (IB), which is caused by...  \n",
       "3  Nipah is an infectious negative-sense single-s...  \n",
       "4  In December 2019, a cluster of patients with p...  \n",
       "5  The sudden outbreak of the new coronavirus (SA...  "
      ]
     },
     "execution_count": 7,
     "metadata": {},
     "output_type": "execute_result"
    }
   ],
   "source": [
    "articles.head()"
   ]
  },
  {
   "cell_type": "code",
   "execution_count": 4,
   "metadata": {},
   "outputs": [],
   "source": [
    "ecmo = articles[(articles['full_text'].str.lower().str.contains('extracorporeal membrane oxygenation'))\n",
    "               |(articles['full_text'].str.contains('ECMO'))]"
   ]
  },
  {
   "cell_type": "code",
   "execution_count": 7,
   "metadata": {},
   "outputs": [
    {
     "name": "stdout",
     "output_type": "stream",
     "text": [
      "The copyright holder for this preprint (which was not peer-reviewed) is the . https://doi.org/10.1101/2020.03.05.20031591 doi: medRxiv preprint as antiviral or antibiotic therapy, respiratory support, continuous renal replacement therapy, and extracorporeal membrane oxygenation [ECMO]) were collected from the patients' medical records. Laboratory test results including those of blood routine tests, C-reactive protein (CRP) and D-dimer tests, and blood gas analysis were recorded and compared. The levels of cardiac injury markers including lactate dehydrogenase (LDH), hydroxybutyrate dehydrogenase, creatine kinase (CK), CK-MB, myoglobin (MYO), amino N-terminal pro-brain natriuretic peptide, and TNT-HSST were determined at admission. The AMI group was defined as patients with TNT-HSST serum levels > 99th percentile upper reference limit (>28 pg/ml). 6 The group with cardiac marker abnormalities but non-definite AMI was defined as patients with TNT-HSST serum levels < 28pg/ml but increase in the levels of any of the other abovementioned cardiac markers. The group without cardiac marker abnormalities comprised patients without elevation in the levels of any of the cardiac markers. Chest computed tomography (CT) was performed on the day of admission. The period of illness onset to admission was defined from the day when signs or symptoms were first noticed to the day of admission. All enrolled patients underwent two-dimensional echocardiography (2D echo) and electrocardiography (ECG) during hospitalization.\n",
      "----\n",
      "The copyright holder for this preprint (which was not peer-reviewed) is the . https://doi.org/10.1101/2020.03.05.20031591 doi: medRxiv preprint Table 3 shows the main management strategies, comorbid conditions, and clinical outcomes of all the COVID-19 patients. In the AMI group, in addition to antiviral and antibiotic therapies, cardioprotective medications such as amiodarone and cedilla were used by four patients to improve the cardiac function. However, the non-definite AMI patients with and without cardiac markers abnormalities did not use cardioprotective medication. All the 53 patients were administered nasal cannula oxygen therapy during admission for respiratory support; non-invasive ventilation or high-flow nasal cannula oxygen therapy was performed for five AMI and three non-definite AMI patients with cardiac marker abnormalities. Notably, in the AMI group, invasive mechanical ventilation was used in three patients and ECMO in one patient due to extremely severe ARDS.\n",
      "----\n",
      "The copyright holder for this preprint (which was not peer-reviewed) is the ECMO, extracorporeal membrane oxygenation; ARDS, Acute respiratory distress syndrome; AKI, acute kidney injury; ICU, intensive care unit; other abbreviations the same as those in the footnote of Table 1 .\n",
      "----\n"
     ]
    }
   ],
   "source": [
    "for text in ecmo['full_text'].values:\n",
    "    chunks = text.split('\\n')\n",
    "    for chunk in chunks:\n",
    "        if ('ECMO' in chunk) or ('extracorporeal membrane oxygenation' in chunk):\n",
    "            print(chunk)\n",
    "            print('----')\n",
    "    break"
   ]
  },
  {
   "cell_type": "code",
   "execution_count": 22,
   "metadata": {},
   "outputs": [],
   "source": [
    "# Returns a dataframe with the articleID, title, abstract, and highlighted text of articles that match search terms\n",
    "# Store chunks of text per article in a Set to remove possible duplicates\n",
    "def search_text(keyWords=[]):\n",
    "    if keyWords==[]:\n",
    "        return 'Enter a list of strings to search for. (Case sensitive)'\n",
    "    articles = pd.read_pickle('cleaned_articles.pkl')\n",
    "    for word in keyWords:\n",
    "        subset = articles[articles['full_text'].str.contains(word)]\n",
    "        for idx, text in subset['full_text'].iteritems():\n",
    "            highlights = \"\"\n",
    "            chunks = text.split('\\n')\n",
    "            for chunk in chunks:\n",
    "                if word in chunk:\n",
    "                    highlights+=chunk\n",
    "                    highlights+=\"\\n\\n\"\n",
    "            return highlights\n",
    "    return subset"
   ]
  },
  {
   "cell_type": "code",
   "execution_count": 23,
   "metadata": {},
   "outputs": [
    {
     "name": "stdout",
     "output_type": "stream",
     "text": [
      "The copyright holder for this preprint (which was not peer-reviewed) is the . https://doi.org/10.1101/2020.03.05.20031591 doi: medRxiv preprint as antiviral or antibiotic therapy, respiratory support, continuous renal replacement therapy, and extracorporeal membrane oxygenation [ECMO]) were collected from the patients' medical records. Laboratory test results including those of blood routine tests, C-reactive protein (CRP) and D-dimer tests, and blood gas analysis were recorded and compared. The levels of cardiac injury markers including lactate dehydrogenase (LDH), hydroxybutyrate dehydrogenase, creatine kinase (CK), CK-MB, myoglobin (MYO), amino N-terminal pro-brain natriuretic peptide, and TNT-HSST were determined at admission. The AMI group was defined as patients with TNT-HSST serum levels > 99th percentile upper reference limit (>28 pg/ml). 6 The group with cardiac marker abnormalities but non-definite AMI was defined as patients with TNT-HSST serum levels < 28pg/ml but increase in the levels of any of the other abovementioned cardiac markers. The group without cardiac marker abnormalities comprised patients without elevation in the levels of any of the cardiac markers. Chest computed tomography (CT) was performed on the day of admission. The period of illness onset to admission was defined from the day when signs or symptoms were first noticed to the day of admission. All enrolled patients underwent two-dimensional echocardiography (2D echo) and electrocardiography (ECG) during hospitalization.\n",
      "\n",
      "The copyright holder for this preprint (which was not peer-reviewed) is the . https://doi.org/10.1101/2020.03.05.20031591 doi: medRxiv preprint Table 3 shows the main management strategies, comorbid conditions, and clinical outcomes of all the COVID-19 patients. In the AMI group, in addition to antiviral and antibiotic therapies, cardioprotective medications such as amiodarone and cedilla were used by four patients to improve the cardiac function. However, the non-definite AMI patients with and without cardiac markers abnormalities did not use cardioprotective medication. All the 53 patients were administered nasal cannula oxygen therapy during admission for respiratory support; non-invasive ventilation or high-flow nasal cannula oxygen therapy was performed for five AMI and three non-definite AMI patients with cardiac marker abnormalities. Notably, in the AMI group, invasive mechanical ventilation was used in three patients and ECMO in one patient due to extremely severe ARDS.\n",
      "\n",
      "The copyright holder for this preprint (which was not peer-reviewed) is the ECMO, extracorporeal membrane oxygenation; ARDS, Acute respiratory distress syndrome; AKI, acute kidney injury; ICU, intensive care unit; other abbreviations the same as those in the footnote of Table 1 .\n",
      "\n",
      "\n"
     ]
    }
   ],
   "source": [
    "search = ['ECMO']\n",
    "print(search_text(search))"
   ]
  },
  {
   "cell_type": "code",
   "execution_count": 12,
   "metadata": {},
   "outputs": [
    {
     "name": "stdout",
     "output_type": "stream",
     "text": [
      "0 VP3, and VP0 (which is further processed to VP2 and VP4 during virus assembly) (6). The P2 64 and P3 regions encode the non-structural proteins 2B and 2C and 3A, 3B (1-3) (VPg), 3C pro and 4 structural protein-coding region is replaced by reporter genes, allow the study of genome 68 replication without the requirement for high containment (9, 10) ( figure 1A ).\n",
      "\n",
      "The FMDV 5′ UTR is the largest known picornavirus UTR, comprising approximately 1300 71 nucleotides and containing several highly structured regions. The first 360 nucleotides at the 5′ 72 end are predicted to fold into a single large stem loop termed the S-fragment, followed by a The PKs were originally predicted in 1987 and consist of two to four tandem repeats of a ~48 86 nucleotide region containing a small stem loop and downstream interaction site (figure 1B) 87 (12). Due to the sequence similarity between the PKs (figure 1C), it is speculated that they 88 were formed by duplication events during viral replication, probably involving recombination. 89 Between two and four PKs are present in different virus isolates but no strain has been 90 identified with less than two PKs, emphasising their potential importance in the viral life cycle 91 (19, 20) . The presence of PKs has been reported in the 5′ UTR of other picornaviruses such as 92 author/funder. All rights reserved. No reuse allowed without permission. can occur in the absence of PKs at least one is required for wild-type (wt) replication. 104 Furthermore, competition experiments showed that extra copies of PKs conferred a replicative 105 advantage to genomes. Although replicons and full-length genomes lacking PKs were 106 replication-competent, no infectious virus was rescued from genomes containing less than one 107 PK copy. This is consistent with our earlier report describing the presence of putative 108 packaging signals in the PK region (22). 109 110 author/funder. All rights reserved. No reuse allowed without permission. Plasmid construction. 117 The FMDV replicon plasmids, pRep-ptGFP, and the replication-defective polymerase mutant 118 control, 3D-GNN, have already been described (10).\n",
      "\n",
      "To introduce mutations into the PK region, the pRep-ptGFP replicon plasmid was digested 121 with SpeI and KpnI and the resulting fragment inserted into a sub-cloning vector (pBluescript) 122 to create the pBluescript PK. PKs 3 and 4 were removed by digestion with HindIII and AatII 123 before insertion of a synthetic DNA sequence with PK 3 and 4 deleted. PKs 2, 3 and 4 were 124 deleted by PCR amplification using ΔPK 234 Forward primer and FMDV 1331-1311 reverse 125 primer, the resultant product was digested with HindIII and AatII and ligated into the 126 pBluescript PK vector. Complete PK deletion was achieved by introduction of an AflII site at 127 the 3′ end of the poly-C tract by PCR mutagenesis to create the sub-cloning vector, pBluescript 128 C11, which was then used to remove all the PKs by PCR mutagenesis using ΔPK 1234 forward 129 primer and FMDV 1331-1311 reverse primer. The modified PK sequences were removed from 130 the sub-cloning vectors and inserted into the pRep-ptGFP plasmid using NheI-HF and KpnI-131 HF.\n",
      "\n",
      "132 133 author/funder. All rights reserved. No reuse allowed without permission.\n",
      "\n",
      "The copyright holder for this preprint (which was not peer-reviewed) is the . https://doi.org/10.1101/2020.01.10.901801 doi: bioRxiv preprint 7 Mutations to disrupt and reform PK structure were introduced using synthetic DNA by 134 digestion with AflII and AatII and ligation into a similarly digested pBluescript PK vector.\n",
      "\n",
      "Mutations were then introduced into the replicon plasmid as described above.\n",
      "\n",
      "To assess the effects of truncation of the poly-C-tract on replication the entire sequence was 137 removed. This was performed by PCR mutagenesis using primers C0 SpeI, and FMDV 1331- In vitro transcription. 143 In vitro transcription reactions for replicon assays were performed as described previously (28).\n",
      "\n",
      "Transcription reactions to produce large amounts of RNA for SHAPE analysis were performed 145 with purified linear DNA as described above, and 1 μg of linearised DNA was then used in a 146 HiScribe T7 synthesis kit (NEB), before DNase treatment and purification using a PureLink FastQ files were quality checked using FastQC with poor quality reads filtered using the 225 Sickle algorithm. Host cell reads were removed using FastQ Screen algorithm and FMDV 226 reads assembled de novo into contigs using IDBA-UD (35). Contigs that matched the FMDV 227 library (identified using Basic Local ALighnment Search Tool (BLAST)) were assembled 228 author/funder. All rights reserved. No reuse allowed without permission.\n",
      "\n",
      "The copyright holder for this preprint (which was not peer-reviewed) is the . https://doi.org/10.1101/2020.01.10.901801 doi: bioRxiv preprint into consensus sequences using SeqMan Pro software in the DNA STAR Lasergene 13 229 package (DNA STAR) (36). The SHAPE data largely agreed with the predicted structures with the stems of PK 1, 2 and 3, interacting nucleotides showed little to no reactivity, suggesting NMIA could not interact with 300 author/funder. All rights reserved. No reuse allowed without permission.\n",
      "\n",
      "The copyright holder for this preprint (which was not peer-reviewed) is the . https://doi.org/10.1101/2020.01.10.901801 doi: bioRxiv preprint 14 these nucleotides either due to the predicted base pairing or steric hindrance (figure 2B). The\n",
      "\n",
      "NMIA reactivity for the interacting nucleotides in the stem-loops with downstream residues of 302 PK 1, 2 and 3 again largely agreed with the predicted structure, although the SHAPE data 303 suggests that there might be fewer interactions than previously predicted. However, differences 304 here could be due to heterogeneity in the formation of PKs in this experiment. The evidence 305 for loop-downstream interaction was weaker for PK4. The copyright holder for this preprint (which was not peer-reviewed) is the . https://doi.org/10.1101/2020.01.10.901801 doi: bioRxiv preprint\n",
      "\n",
      "orientation. 351 Since removal of all four PKs resulted in a significant decrease in replication, the minimal 352 requirements to maintain wt levels of replication were investigated. As near wt level of 353 replication was observed when only one PK was present, all further mutagenesis was 354 performed in a C11 replicon plasmid containing only PK 1. In addition, the orientation of PK 1 was reversed by \"flipping\" the nucleotide sequence to 367 potentially facilitate hybridisation of the loop with upstream rather than downstream sequences.\n",
      "\n",
      "Changing the orientation of the PK reduced replicon replication to a similar level seen in the replication decreased until at passage three there is a 2.5 fold reduction compared to that of 398 author/funder. All rights reserved. No reuse allowed without permission.\n",
      "\n",
      "The copyright holder for this preprint (which was not peer-reviewed) is the . https://doi.org/10.1101/2020.01.10.901801 doi: bioRxiv preprint passage 0 (figure 5B). Therefore, it appears that replicons with a single PK are at a competitive 399 disadvantage compared to those with two or more. The copyright holder for this preprint (which was not peer-reviewed) is the . https://doi.org/10.1101/2020.01.10.901801 doi: bioRxiv preprint 20 of infectious virus despite being able to replicate after transfection into cells, is consistent with 448 a requirement for RNA structure within the PK region being required for virus assembly. The 5′ UTR of FMDV is unique amongst picornaviruses due to its large size and the presence 454 of multiple RNA elements, some of which still have unknown function. One of these features 455 is a series of repeated PKs varying in number from 2-4, depending on virus strain. In this study, 456 we sequentially deleted or mutated the PKs to help understand their role in the viral life cycle. 457 We also confirmed the predicted PK structures by SHAPE mapping, although there may be Although all viruses isolated to date contain at least two PKs, replicons or viruses containing a 464 single PK were still replication competent. However, replicons with more than a single PK 465 were found to have a competitive advantage over replicons with a single PK when sequentially 466 passaged. Replicons lacking all PKs displayed poor passaging potential even when co-467 transfected with yeast tRNA, reinforcing the observation of a significant impact in replication.\n",
      "\n",
      "Moreover, viruses recovered from genomes with reduced numbers of PKs were slower growing 469 and produced smaller plaques. In addition, these differences were more pronounced in more PKs is functionally competent as no differences was seen between replicons congaing a single 472 author/funder. All rights reserved. No reuse allowed without permission.\n",
      "\n",
      "The copyright holder for this preprint (which was not peer-reviewed) is the . https://doi.org/10.1101/2020.01.10.901801 doi: bioRxiv preprint 21 copy of PK1 or PK4. This observation is consistent with a previous report of deletion of PK1, 473 along with the Poly-C-tract, with no adverse effect in viral replication (37). This also supports 474 our findings that the truncation of the Poly-C-tract to create the C11 construct had no effect on 475 replicon replication in the cell lines tested. As has been described with Mengo virus, it is 476 possible that the role of the poly-C-tract is essential in other aspects of the viral lifecycle which 477 cannot be recapitulated in a standard tissue culture system (39).\n",
      "\n",
      "The presence of at least two PKs in all viral isolates sequenced so far suggests that multiple 480 PKs confer a competitive advantage in replication. Here we showed by sequential passage that 481 replicons containing at least two PKs were maintained at a level similar to wt, but replicons 482 containing only one PK showed a persistent decline. It is unclear why some viral isolates 483 contain two, three or four PKs is still unknown, but this may be stochastic variation or may 484 reflect subtle effects of host range or geographical localisation. The copyright holder for this preprint (which was not peer-reviewed) is the . https://doi.org/10.1101/2020.01.10.901801 doi: bioRxiv preprint author/funder. All rights reserved. No reuse allowed without permission.\n",
      "\n",
      "The copyright holder for this preprint (which was not peer-reviewed) is the . https://doi.org/10.1101/2020.01.10.901801 doi: bioRxiv preprint The copyright holder for this preprint (which was not peer-reviewed) is the . https://doi.org/10.1101/2020.01.10.901801 doi: bioRxiv preprint Significance is shown comparing the replication of C11 PK disrupt and C11 PK restore (Aii). Significance shown is compared to wt replicon. Error bars are calculated by SEM, n = 3, * P 673 < 0.05, **** P < 0.0001. 674 author/funder. All rights reserved. No reuse allowed without permission.\n",
      "\n",
      "The copyright holder for this preprint (which was not peer-reviewed) is the . https://doi.org/10.1101/2020.01.10.901801 doi: bioRxiv preprint 33 675 author/funder. All rights reserved. No reuse allowed without permission.\n",
      "\n",
      "The copyright holder for this preprint (which was not peer-reviewed) is the . https://doi.org/10.1101/2020.01.10.901801 doi: bioRxiv preprint \n",
      "\n",
      "\n"
     ]
    }
   ],
   "source": [
    "for idx,text in articles['full_text'].iteritems():\n",
    "    print(idx,text)\n",
    "    break"
   ]
  },
  {
   "cell_type": "code",
   "execution_count": null,
   "metadata": {},
   "outputs": [],
   "source": []
  }
 ],
 "metadata": {
  "kernelspec": {
   "display_name": "Python 3",
   "language": "python",
   "name": "python3"
  },
  "language_info": {
   "codemirror_mode": {
    "name": "ipython",
    "version": 3
   },
   "file_extension": ".py",
   "mimetype": "text/x-python",
   "name": "python",
   "nbconvert_exporter": "python",
   "pygments_lexer": "ipython3",
   "version": "3.7.6"
  }
 },
 "nbformat": 4,
 "nbformat_minor": 4
}
